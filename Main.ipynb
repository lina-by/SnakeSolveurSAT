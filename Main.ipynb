{
 "cells": [
  {
   "cell_type": "markdown",
   "metadata": {},
   "source": [
    "# Solveur SAT pour le jeu Snake\n",
    "\n",
    "Nous modélisons la grille de taille $N^2$ et les déplacements du snake à l'aide d'un tenseur de dimensions $N^2 \\times T$, où $T$ représente l'horizon temporel sur lequel le snake doit manger les $p$ pommes.\n",
    "\n",
    "Les coefficients du tenseur sont définis comme suit :\n",
    "$$\n",
    "a_{x,y,t} = \\begin{cases} \n",
    "1, & \\text{si la tête du snake est en position } (x,y) \\text{ à l'instant } t \\\\\n",
    "0, & \\text{sinon}\n",
    "\\end{cases}\n",
    "$$\n",
    "\n",
    "L'instance du problème SAT est représentée sous forme d'une liste de tenseurs de dimensions $N^2 \\times T$, avec les conventions suivantes :\n",
    "- $1$ si la variable apparaît dans la clause,\n",
    "- $-1$ si c'est son opposé,\n",
    "- $0$ si la variable n'est pas présente dans la clause.\n",
    "\n",
    "### Fonctionnalités\n",
    "- **`gophersat.py`** : Ce module permet de générer un fichier `.cnf` interprétable par Gophersat, d'exécuter le solveur et de récupérer les réponses.\n",
    "- **`plots.py`** : Ce module permet de visualiser et d'illustrer les résultats obtenus.\n",
    "\n",
    "Ce notebook est dédié à la formulation des clauses SAT ainsi qu'à l'analyse et au commentaire des résultats obtenus.\n",
    "\n"
   ]
  },
  {
   "cell_type": "code",
   "execution_count": 152,
   "metadata": {},
   "outputs": [],
   "source": [
    "# IMPORTS\n",
    "from itertools import combinations, product\n",
    "import random\n",
    "from gophersat import create_sat, create_variable_index, format_clause"
   ]
  },
  {
   "cell_type": "markdown",
   "metadata": {},
   "source": [
    "# MVP1 : Contraintes de déplacement\n",
    "La longueur du serpent est fixe et vaut L. Il n'y a pas de pommes"
   ]
  },
  {
   "cell_type": "code",
   "execution_count": 153,
   "metadata": {},
   "outputs": [],
   "source": [
    "clauses = []\n",
    "N=5\n",
    "T=10\n",
    "L0=3\n",
    "SNAKE_SIZE=3\n",
    "variable=create_variable_index(N,T)"
   ]
  },
  {
   "cell_type": "markdown",
   "metadata": {},
   "source": [
    "## Contrainte 1 : Unicité de la position\n",
    "\n",
    "La tête du snake ne peut être qu'à une position $(x,y)$ à un instant $t$.\n",
    "\n",
    "$$\\forall t, \\exists! (x,y) \\text{ tel que } M(x,y,t) = 1$$\n",
    "\n",
    "Cette contrainte se traduit par un nombre de clauses de l'ordre de \\(O(N^4 \\times T)\\).\n",
    "\n",
    "Formellement, $\\forall t < T, \\forall (x,y) \\neq (x',y'), \\neg M(x,y,t) \\lor \\neg M(x',y',t)$\n"
   ]
  },
  {
   "cell_type": "code",
   "execution_count": 154,
   "metadata": {},
   "outputs": [],
   "source": [
    "def unicité_position(N: int, T: int):\n",
    "    clauses_position = []\n",
    "    for t in range(T):\n",
    "        for (x1, y1), (x2, y2) in combinations(product(range(N), range(N)), 2):\n",
    "            litteraux = [-variable((x1, y1, t)), -variable((x2, y2, t))]\n",
    "            clauses_position.append(format_clause(litteraux))\n",
    "    return clauses_position\n",
    "clauses += unicité_position(N,T)"
   ]
  },
  {
   "cell_type": "markdown",
   "metadata": {},
   "source": [
    "## Contrainte 2 : Existence de la position\n",
    "\n",
    "À chaque instant \\(t\\), le snake doit être quelque part sur la grille.\n",
    "\n",
    "$$\\forall t, \\exists (x,y) \\text{ tel que } M(x,y,t) = 1$$\n",
    "\n",
    "Cette contrainte garantit que la tête du snake occupe au moins une case à chaque instant \\(t\\).\n",
    "\n",
    "Cela introduit \\(T\\) clauses :\n",
    "\n",
    "$$\\forall t, \\bigvee_{x,y} M(x,y,t)$$\n",
    "\n"
   ]
  },
  {
   "cell_type": "code",
   "execution_count": 155,
   "metadata": {},
   "outputs": [],
   "source": [
    "def existence_position(N: int, T: int):\n",
    "    clauses_position = []\n",
    "    for t in range(T):\n",
    "        litteraux = [variable((x, y, t)) for x, y in product(range(N), range(N))]\n",
    "        clauses_position.append(format_clause(litteraux))\n",
    "    return clauses_position\n",
    "\n",
    "\n",
    "clauses += existence_position(N,T)"
   ]
  },
  {
   "cell_type": "markdown",
   "metadata": {},
   "source": [
    "## Contrainte 3 : Déplacement valide\n",
    "\n",
    "La position en \\(t+1\\) doit être adjacente à la position en \\(t\\).\n",
    "\n",
    "$$\\forall t, \\forall (x,y), M(x,y,t) \\Rightarrow M(x,y-1,t+1) \\lor M(x,y+1,t+1) \\lor M(x-1,y,t+1) \\lor M(x+1,y,t+1)$$\n",
    "\n",
    "Cela se traduit par $O(N^2 \\times T)$ clauses supplémentaires.\n",
    "\n",
    "Formellement :\n",
    "\n",
    "$$\\forall x,y,t, \\neg M(x,y,t) \\lor M(x,y-1,t+1) \\lor M(x,y+1,t+1) \\lor M(x-1,y,t+1) \\lor M(x+1,y,t+1)$$\n",
    "\n"
   ]
  },
  {
   "cell_type": "code",
   "execution_count": 156,
   "metadata": {},
   "outputs": [],
   "source": [
    "def positions_adjacentes(x,y,N):\n",
    "    x_adjacentes = []\n",
    "    y_adjacentes = []\n",
    "    if x != N-1:\n",
    "        x_adjacentes.append(x+1)\n",
    "    if x != 0:\n",
    "        x_adjacentes.append(x-1)\n",
    "    if y != N-1:\n",
    "        y_adjacentes.append(y+1)\n",
    "    if y != 0:\n",
    "        y_adjacentes.append(y-1)\n",
    "    return [(x,y2) for y2 in y_adjacentes] + [(x2,y) for x2 in x_adjacentes]\n",
    "\n",
    "def next_move(N: int, T: int):\n",
    "    clauses_position = []\n",
    "    for x, y, t in product(range(N), range(N), range(T - 1)):\n",
    "        litteraux = [-variable((x, y, t))] + [variable((x2, y2, t + 1)) for x2, y2 in positions_adjacentes(x, y, N)]\n",
    "        clauses_position.append(format_clause(litteraux))\n",
    "    return clauses_position\n",
    "\n",
    "clauses += next_move(N, T)"
   ]
  },
  {
   "cell_type": "markdown",
   "metadata": {},
   "source": [
    "## Contrainte 4 : Ne pas se mordre la queue\n",
    "\n",
    "Pour l'instant, le serpent a une longueur fixe \\(L\\). La position de la tête du snake \\((x,y)\\) sur la grille ne peut donc pas être la même à un instant \\(t\\) et à un instant \\(t'\\) avec \\(t' < t + L\\). Cela se traduit par l'introduction de $O(N^2 \\times L \\times T)$ clauses supplémentaires.\n",
    "\n",
    "$$\\forall t, \\forall l < L, \\forall (x,y), \\neg M(x,y,t) \\lor \\neg M(x,y,t+l)$$\n",
    "\n",
    "\n",
    "\n"
   ]
  },
  {
   "cell_type": "code",
   "execution_count": 157,
   "metadata": {},
   "outputs": [],
   "source": [
    "def mordre_queue_v1(N: int, T: int, L: int):\n",
    "    clauses_position = []\n",
    "    for x, y, t in product(range(N), range(N), range(T - 1)):\n",
    "        for l in range(1, min(T - t, L)):\n",
    "            litteraux=[-variable((x, y, t)), -variable((x, y, t + l))]\n",
    "            clauses_position.append(format_clause(litteraux))\n",
    "    return clauses_position\n",
    "\n",
    "clauses += mordre_queue_v1(N,T,L0)"
   ]
  },
  {
   "cell_type": "markdown",
   "metadata": {},
   "source": [
    "## Résultats MVP1"
   ]
  },
  {
   "cell_type": "code",
   "execution_count": 158,
   "metadata": {},
   "outputs": [],
   "source": [
    "solution = create_sat(clauses)\n",
    "import matplotlib.pyplot as plt\n",
    "from plots import create_snake_path, visualize_snake\n",
    "snake_path = create_snake_path(solution, T, N, variable)\n",
    "visualize_snake(N, snake_path, animation_name=\"solution_animation_MVP1.gif\")\n",
    "plt.close()"
   ]
  },
  {
   "cell_type": "markdown",
   "metadata": {},
   "source": [
    "# MVP 2 : Pommes et croissance du snake\n",
    "Cette fois ci on place p pommes sur la grille. Les positions sont dans la liste pommes. Le snake doit avoir mangée toutes ses pommes avant la fin du jeu, c'est à dire avant t=T. De plus le snake grandit de une unité à chaque pomme mangée.\n"
   ]
  },
  {
   "cell_type": "code",
   "execution_count": 159,
   "metadata": {},
   "outputs": [],
   "source": [
    "clauses = []\n",
    "N=10\n",
    "T=35\n",
    "L=3\n",
    "nb_pommes = 9\n",
    "\n",
    "\n",
    "pommes = random.sample(list(product(range(N), range(N))), nb_pommes)        #Pommes placées aléatoirement sur la grille\n",
    "variable=create_variable_index(N,T, nb_pommes)"
   ]
  },
  {
   "cell_type": "markdown",
   "metadata": {},
   "source": [
    "## Contrainte 5 : Initialiser les pommes\n",
    "\n",
    "Au début du jeu, toutes les pommes sont actives\n",
    "$$\\forall (x,y) \\in pommes, P(x,y,0)$$\n",
    "\n",
    "Cela se traduit par $O(P)$ contraintes supplémentaires."
   ]
  },
  {
   "cell_type": "code",
   "execution_count": 160,
   "metadata": {},
   "outputs": [],
   "source": [
    "def init_pommes(nb_pommes):\n",
    "    clauses_position = []\n",
    "    for p in range(nb_pommes):\n",
    "        litteraux=[variable((p, 0), 'p')]\n",
    "        clauses_position.append(format_clause(litteraux))\n",
    "    return clauses_position"
   ]
  },
  {
   "cell_type": "markdown",
   "metadata": {},
   "source": [
    "## Contrainte 6 : Initialiser la position hors des pommes\n",
    "\n",
    "Au début du jeu, le serpent n'est pas sur une pomme\n",
    "$$\\forall (x,y) \\in pommes, \\neg M(x,y,0)$$\n",
    "\n",
    "Cela se traduit par $O(P)$ contraintes supplémentaires."
   ]
  },
  {
   "cell_type": "code",
   "execution_count": 161,
   "metadata": {},
   "outputs": [],
   "source": [
    "def init_positions(pommes):\n",
    "    clauses_position = []\n",
    "    for (x,y) in pommes:\n",
    "        litteraux=[-variable((x,y, 0), 's')]\n",
    "        clauses_position.append(format_clause(litteraux))\n",
    "    return clauses_position"
   ]
  },
  {
   "cell_type": "markdown",
   "metadata": {},
   "source": [
    "## Contrainte 7 : Faire disparaitre les pommes\n",
    "\n",
    "A chaque fois que le snake passe au-dessus d'une pomme \"active\", elle disparait.\n",
    "$$\\forall t, \\forall (x,y) \\in pommes, M(x,y,t) \\land P(x,y,t) \\Rightarrow \\neg P(x,y,t+1)$$\n",
    "\n",
    "Cela se traduit par $O(P \\times T)$ contraintes supplémentaires. Formellement:\n",
    "$$\\forall t, \\forall (x,y) \\in pommes, \\neg M(x,y,t) \\lor \\neg P(x,y,t) \\lor \\neg P(x,y,t+1)$$"
   ]
  },
  {
   "cell_type": "code",
   "execution_count": 162,
   "metadata": {},
   "outputs": [],
   "source": [
    "def disparaitre_pommes(pommes, T):\n",
    "    clauses_position = []\n",
    "    for p, (x,y) in enumerate(pommes):\n",
    "        for t in range(T-1):\n",
    "            litteraux=[-variable((x, y, t), 's'), -variable((p, t), 'p'), -variable((p, t+1), 'p')]\n",
    "            clauses_position.append(format_clause(litteraux))\n",
    "    return clauses_position"
   ]
  },
  {
   "cell_type": "markdown",
   "metadata": {},
   "source": [
    "## Contrainte 8 : Pas d'anihilation spontanée de pommes\n",
    "\n",
    "Les pommes restent \"actives\" si le snake ne passe pas dessus\n",
    "$$\\forall t, \\forall (x,y) \\in pommes, P(x,y,t) \\Rightarrow P(x,y,t+1) \\lor M(x,y,t)$$\n",
    "\n",
    "Cela se traduit par $O(P \\times T)$ contraintes supplémentaires. Formellement:\n",
    "$$\\forall t, \\forall (x,y) \\in pommes, \\neg P(x,y,t) \\lor P(x,y,t+1) \\lor M(x,y,t)$$"
   ]
  },
  {
   "cell_type": "code",
   "execution_count": 163,
   "metadata": {},
   "outputs": [],
   "source": [
    "def preserver_pommes(pommes, T):\n",
    "    clauses_position = []\n",
    "    for p, (x,y) in enumerate(pommes):\n",
    "        for t in range(T-1):\n",
    "            litteraux=[-variable((p, t), 'p'), variable((p, t+1), 'p'), variable((x, y, t), 's')]\n",
    "            clauses_position.append(format_clause(litteraux))\n",
    "    return clauses_position"
   ]
  },
  {
   "cell_type": "markdown",
   "metadata": {},
   "source": [
    "## Contrainte 9 : Pas de création spontanée de pommes\n",
    "\n",
    "Les pommes restent \"inactives\" une fois mangées\n",
    "$$\\forall t, \\forall (x,y) \\in pommes, \\neg P(x,y,t) \\Rightarrow \\neg P(x,y,t+1)$$\n",
    "\n",
    "Cela se traduit par $O(P \\times T)$ contraintes supplémentaires. Formellement:\n",
    "$$\\forall t, \\forall (x,y) \\in pommes, P(x,y,t) \\lor \\neg P(x,y,t+1)$$"
   ]
  },
  {
   "cell_type": "code",
   "execution_count": 164,
   "metadata": {},
   "outputs": [],
   "source": [
    "def ne_pas_creer_pommes(nb_pommes, T):\n",
    "    clauses_position = []\n",
    "    for p in range(nb_pommes):\n",
    "        for t in range(T-1):\n",
    "            litteraux=[variable((p, t), 'p'), -variable((p, t+1), 'p')]\n",
    "            clauses_position.append(format_clause(litteraux))\n",
    "    return clauses_position"
   ]
  },
  {
   "cell_type": "markdown",
   "metadata": {},
   "source": [
    "## Deux implémentations possibles\n",
    "\n",
    "Le snake grandit d'une case à chaque pomme mangée. L'implémentation de cette contrainte nécessite l'ajout de clauses et, potentiellement, de variables supplémentaires. Deux approches sont explorées ici.\n",
    "\n",
    "### Première approche : Utilisation d'un compteur de pommes mangées\n",
    "\n",
    "Précédemment, lorsque la longueur du snake était fixe, la contrainte \"ne pas se mordre la queue\" se traduisait par :\n",
    "$$\n",
    "\\forall (x,y,t), \\forall l < L, \\neg M(x,y,t) \\lor \\neg M(x,y,t+l)\n",
    "$$\n",
    "\n",
    "Désormais, cette contrainte doit être implémentée dynamiquement pour chaque longueur du snake \\(L\\), qui dépend du nombre de pommes mangées. On peut introduire une variable compteur $p_{mangée}$ pour suivre ce nombre.\n",
    "\n",
    "Le nombre de clauses associé à..... la contrainte \"ne pas se mordre la queue\" (dans le MVP1 $O(N^2 \\times L \\times T)$) devient :\n",
    "$$\n",
    "\\sum_{p_{mangée}=0}^{n_{pommes}} N^2 \\times (L_0 + p_{mangée}) \\times T = N^2 \\times T \\times \\left( n_{pommes} L_0 + \\frac{n_{pommes} (n_{pommes}+1)}{2} \\right)\n",
    "$$\n",
    "\n",
    "À cela s'ajoutent les clauses qui implémentent l'évolution du compteur de pommes mangées.\n",
    "\n",
    "### Seconde approche : Déduction du nombre de pommes mangées\n",
    "\n",
    "Une autre possibilité est de déduire $p_{mangée}$ directement à partir de la matrice de variables indiquant la présence des pommes actives. Dans ce cas, il faut prendre en compte, pour chaque p_{mangée}, toutes les combinaisons possibles de pommes mangées. Cela correspond donc à :\n",
    "$$\n",
    "\\sum_{p_{mangée}=0}^{n_{pommes}} \\binom{n_{pommes}}{p_{mangée}} \\times N^2 \\times (L_0 + p) \\times T\n",
    "$$\n",
    "\n",
    "Développons cette somme :\n",
    "$$\n",
    "N^2 \\times T \\times \\sum_{p=0}^{n_{pommes}} \\binom{n_{pommes}}{p} (L_0 + p)\n",
    "$$\n",
    "En utilisant la propriété de la somme des coefficients binomiaux :\n",
    "$\\sum_{p=0}^{n_{pommes}} \\binom{n_{pommes}}{p} = 2^{n_{pommes}}$ et $\\sum_{p=0}^{n_{pommes}} \\binom{n_{pommes}}{p}\\times p = n_{pommes} \\times 2^{n_{pommes}-1}$\n",
    "\n",
    "\n",
    "On obtient finalement :\n",
    "$$\n",
    "N^2 \\times T \\times \\left( 2^{n_{pommes}} L_0 + n_{pommes} \\cdot 2^{n_{pommes}-1} \\right)\n",
    "$$\n",
    "\n",
    "Cette seconde approche introduit un facteur exponentiel $2^{n_{pommes}}$, ce qui peut rendre l'implémentation plus coûteuse en termes de complexité. Cependant, on n'ajoute pas de variables supplémentaires.\n",
    "\n"
   ]
  },
  {
   "cell_type": "markdown",
   "metadata": {},
   "source": [
    "## Approche 1. Ajout de variables \"counter\""
   ]
  },
  {
   "cell_type": "markdown",
   "metadata": {},
   "source": [
    "### Contrainte 10.a : Comptage des pommes\n",
    "\n",
    "Une pomme qui est mangée incrémente le compteur\n",
    "$$\\forall t, \\forall c, \\forall (x,y) \\in pommes, M(x,y,t) \\land P(x,y,t) \\land C(c,t) \\land \\neg C(c+1,t) \\Rightarrow C(c+1,t+1)$$\n",
    "\n",
    "Cela se traduit par $O(P \\times T \\times C)$ contraintes supplémentaires. Formellement:\n",
    "$$\\forall t, \\forall c, \\forall (x,y) \\in pommes, \\neg M(x,y,t) \\lor \\neg P(x,y,t) \\lor \\neg C(c,t) \\lor C(c+1,t) \\lor C(c+1,t+1)$$"
   ]
  },
  {
   "cell_type": "code",
   "execution_count": 165,
   "metadata": {},
   "outputs": [],
   "source": [
    "def comptage_pommes(pommes, T):\n",
    "    clauses_position = []\n",
    "    for p, (x,y) in enumerate(pommes):\n",
    "        for t in range(T):\n",
    "            for c in range(nb_pommes-1):\n",
    "                litteraux=[-variable((x, y, t), 's'), -variable((p, t), 'p'), -variable((c, t), 'c'), variable((c+1, t), 'c'), variable((c+1, t+1), 'c')]\n",
    "                clauses_position.append(format_clause(litteraux))\n",
    "    return clauses_position"
   ]
  },
  {
   "cell_type": "markdown",
   "metadata": {},
   "source": [
    "### Contrainte 10.b : Initialisation du compteur\n",
    "\n",
    "Le compteur est initialement à 0 et la première pomme mangée le démarre\n",
    "$$\\forall c, \\neg C(c,0)$$\n",
    "$$\\forall t, \\forall (x,y) \\in pommes, M(x,y,t) \\land P(x,y,t) \\Rightarrow C(0,t+1)$$\n",
    "\n",
    "Cela se traduit par $O(P \\times T)$ contraintes supplémentaires. Formellement:\n",
    "$$\\forall c, \\neg C(c,0)$$\n",
    "$$\\forall t, \\forall (x,y) \\in pommes, \\neg M(x,y,t) \\lor \\neg P(x,y,t) \\lor C(0,t+1)$$"
   ]
  },
  {
   "cell_type": "code",
   "execution_count": 166,
   "metadata": {},
   "outputs": [],
   "source": [
    "def init_compteur(pommes, T):\n",
    "    clauses_position = []\n",
    "    \n",
    "    for c in range(len(pommes)):\n",
    "        litteraux=[-variable((c, 0), 'c')]\n",
    "        clauses_position.append(format_clause(litteraux))\n",
    "\n",
    "\n",
    "    for p, (x,y) in enumerate(pommes):\n",
    "        for t in range(T):\n",
    "            litteraux=[-variable((x, y, t), 's'), -variable((p, t), 'p'), variable((0, t+1), 'c')]\n",
    "            clauses_position.append(format_clause(litteraux))\n",
    "    return clauses_position"
   ]
  },
  {
   "cell_type": "markdown",
   "metadata": {},
   "source": [
    "### Contrainte 10.c : Pas de désincrémentation du compteur\n",
    "\n",
    "Toute incrémentation du compteur est définitive\n",
    "$$\\forall t, \\forall c, C(c,t) \\Rightarrow C(c,t+1)$$\n",
    "\n",
    "Cela se traduit par $O(T \\times C)$ contraintes supplémentaires. Formellement:\n",
    "$$\\forall t, \\forall c, \\neg C(c,t) \\lor C(c,t+1)$$"
   ]
  },
  {
   "cell_type": "code",
   "execution_count": 167,
   "metadata": {},
   "outputs": [],
   "source": [
    "def ne_pas_desincrementer_compteur(nb_pommes, T):\n",
    "    clauses_position = []\n",
    "    for t in range(T):\n",
    "        for c in range(nb_pommes):\n",
    "            litteraux=[-variable((c, t), 'c'), variable((c, t+1), 'c')]\n",
    "            clauses_position.append(format_clause(litteraux))\n",
    "    return clauses_position"
   ]
  },
  {
   "cell_type": "markdown",
   "metadata": {},
   "source": [
    "### Contrainte 10.d : Pas d'incrémentation spontanée du compteur\n",
    "\n",
    "Le compteur reste fixe si aucune pomme n'est mangée\n",
    "$$\\forall t, \\forall c, \\neg C(c, t) \\land C(c,t+1) \\Rightarrow \\bigvee_{x,y \\in pommes} (M(x,y,t) \\land P(x,y,t))$$\n",
    "\n",
    "Sans perte de généralité, on peut réduire la complexité de ce problème en:\n",
    "$$\\forall t, \\forall c, \\neg C(c, t) \\land C(c,t+1) \\Rightarrow \\bigvee_{x,y \\in pommes} M(x,y,t)$$\n",
    "$$\\forall t, \\forall c, \\forall (x,y) \\in pommes, \\neg C(c, t) \\land C(c,t+1) \\land M(x,y,t) \\Rightarrow P(x,y,t)$$\n",
    "\n",
    "Formellement, cela se traduit par:\n",
    "$$\\forall t, \\forall c, C(c, t) \\lor \\neg C(c,t+1) \\lor \\bigvee_{x,y \\in pommes} M(x,y,t)$$\n",
    "$$\\forall t, \\forall c, \\forall (x,y) \\in pommes, C(c, t) \\lor \\neg C(c,t+1) \\lor \\neg M(x,y,t) \\lor P(x,y,t)$$"
   ]
  },
  {
   "cell_type": "code",
   "execution_count": 168,
   "metadata": {},
   "outputs": [],
   "source": [
    "def ne_pas_incrementer_compteur(nb_pommes, T, pommes):\n",
    "    clauses_position = []\n",
    "    for t in range(T):\n",
    "        for c in range(nb_pommes):\n",
    "            litteraux1=[variable((c, t), 'c'), -variable((c, t+1), 'c')]\n",
    "            for p, (x,y) in enumerate(pommes):\n",
    "                litteraux1.append(variable((x, y, t), 's'))\n",
    "                litteraux2 = [variable((c, t), 'c'), -variable((c, t+1), 'c'), -variable((x, y, t), 's'), variable((p, t), 'p')]\n",
    "                clauses_position.append(format_clause(litteraux2))\n",
    "\n",
    "            clauses_position.append(format_clause(litteraux1))\n",
    "\n",
    "    return clauses_position"
   ]
  },
  {
   "cell_type": "markdown",
   "metadata": {},
   "source": [
    "### Contrainte 10.e : Incrémentation du compteur d'un seul incrément à la fois\n",
    "\n",
    "L'incrémentation du compteur se fait un incrément à la fois\n",
    "$$\\forall t, \\forall (c, c'), c' > c , \\neg C(c,t) \\land C(c,t+1) \\Rightarrow \\neg C(c',t+1)$$\n",
    "\n",
    "Cela se traduit par $O(T \\times C^2)$ contraintes supplémentaires. Formellement:\n",
    "$$\\forall t, \\forall (c, c'), c' > c , C(c,t) \\lor \\neg C(c,t+1) \\lor \\neg C(c',t+1)$$"
   ]
  },
  {
   "cell_type": "code",
   "execution_count": 169,
   "metadata": {},
   "outputs": [],
   "source": [
    "def increment_unique(nb_pommes, T):\n",
    "    clauses_position = []\n",
    "    for t in range(T):\n",
    "        for c in range(nb_pommes):\n",
    "            for c2 in range(c+1, nb_pommes):\n",
    "                litteraux=[variable((c, t), 'c'), -variable((c, t+1), 'c'), -variable((c2, t+1), 'c')]\n",
    "                clauses_position.append(format_clause(litteraux))\n",
    "    return clauses_position"
   ]
  },
  {
   "cell_type": "markdown",
   "metadata": {},
   "source": [
    "### Contrainte 10.f : Manger toutes les pommes\n",
    "\n",
    "Toutes les pommes doivent être mangées à la fin du temps imparti. Cela se traduit par la contrainte\n",
    "$$C(P-1,T)$$"
   ]
  },
  {
   "cell_type": "code",
   "execution_count": 170,
   "metadata": {},
   "outputs": [],
   "source": [
    "def manger_des_pommes(nb_pommes, T):\n",
    "    litteral = [variable((nb_pommes - 1, T), 'c')]\n",
    "    clauses_position = [format_clause(litteral)]\n",
    "    return clauses_position"
   ]
  },
  {
   "cell_type": "markdown",
   "metadata": {},
   "source": [
    "### Contrainte 10.g : Ne pas se mordre la queue V2\n",
    "\n",
    "Le serpent a désormais une longueur variable, incrémentée de 1 à chaque fois que le serpent mange une pomme. La position de la tête du snake \\((x,y)\\) sur la grille ne peut donc pas être la même à un instant \\(t\\) et à un instant \\(t'\\) avec \\(t' < t + L + nb_pommes_mangees\\). Cela se traduit par l'introduction de $O(N^2 \\times (L+P) \\times T)$ clauses supplémentaires.\n",
    "\n",
    "$$\\forall t, \\forall l < L, \\forall (x,y), \\neg M(x,y,t) \\lor \\neg M(x,y,t+l)$$\n",
    "$$\\forall t, \\forall 0 \\leq c < P, \\forall (x,y), C(c,t) \\Rightarrow (\\neg M(x,y,t) \\lor \\neg M(x,y,t+L+c))$$\n",
    "\n",
    "Soit formellement:\n",
    "$$\\forall t, \\forall l < L, \\forall (x,y), \\neg M(x,y,t) \\lor \\neg M(x,y,t+l)$$\n",
    "$$\\forall t, \\forall 0 \\leq c < P, \\forall (x,y), \\neg C(c,t) \\lor \\neg M(x,y,t) \\lor \\neg M(x,y,t+L+c)$$"
   ]
  },
  {
   "cell_type": "code",
   "execution_count": 171,
   "metadata": {},
   "outputs": [],
   "source": [
    "def mordre_queue_v2(N: int, T: int, L: int, nb_pommes: int):\n",
    "    clauses_position = []\n",
    "    for x, y, t in product(range(N), range(N), range(T - 1)):\n",
    "        for l in range(1, min(T - t, L)):\n",
    "            litteraux=[-variable((x, y, t)), -variable((x, y, t + l))]\n",
    "            clauses_position.append(format_clause(litteraux))\n",
    "\n",
    "        for c in range(min(T -L - t, nb_pommes)):\n",
    "            litteraux=[-variable((c,t), 'c') ,-variable((x, y, t)), -variable((x, y, t + L + c))]\n",
    "            clauses_position.append(format_clause(litteraux))\n",
    "    return clauses_position"
   ]
  },
  {
   "cell_type": "markdown",
   "metadata": {},
   "source": [
    "## Resultats approche 1"
   ]
  },
  {
   "cell_type": "code",
   "execution_count": 172,
   "metadata": {},
   "outputs": [],
   "source": [
    "clauses = []\n",
    "clauses += unicité_position(N,T)\n",
    "clauses += existence_position(N,T)\n",
    "clauses += next_move(N,T)\n",
    "clauses += init_pommes(nb_pommes)\n",
    "clauses += init_positions(pommes)\n",
    "clauses += disparaitre_pommes(pommes, T)\n",
    "clauses += preserver_pommes(pommes, T)\n",
    "clauses += ne_pas_creer_pommes(nb_pommes, T)"
   ]
  },
  {
   "cell_type": "code",
   "execution_count": 173,
   "metadata": {},
   "outputs": [],
   "source": [
    "clauses += comptage_pommes(pommes, T)\n",
    "clauses += init_compteur(pommes, T)\n",
    "clauses += ne_pas_desincrementer_compteur(nb_pommes, T)\n",
    "clauses += ne_pas_incrementer_compteur(nb_pommes, T, pommes)\n",
    "clauses += increment_unique(nb_pommes, T)\n",
    "clauses += manger_des_pommes(nb_pommes, T)\n",
    "clauses += mordre_queue_v2(N,T,L0, nb_pommes)"
   ]
  },
  {
   "cell_type": "code",
   "execution_count": 174,
   "metadata": {},
   "outputs": [],
   "source": [
    "solution = create_sat(clauses)\n",
    "assert len(solution) > 0\n",
    "snake_path = create_snake_path(solution, T, N, variable, pommes=pommes)\n",
    "visualize_snake(N, snake_path, animation_name=\"solution_animation_MVP2A.gif\", apple_positions=pommes, interval=400)\n",
    "plt.close()"
   ]
  },
  {
   "cell_type": "markdown",
   "metadata": {},
   "source": [
    "## Approche 2. Ajout de davantage de clauses"
   ]
  },
  {
   "cell_type": "markdown",
   "metadata": {},
   "source": [
    "### Contrainte 11.a : Ne pas se mordre la queue\n",
    "\n",
    "Pour chaque nombre de pommes mangées $p_{mangées}$, il existe $\\binom{n_{pommes}}{p_{mangées}}$ combinaisons possibles $(p_i)_{0<i\\leq p_{mangées}}$.\n",
    "\n",
    "Si ces pommes ont été mangées à l'instant t+l, (c'est-à-dire qu'elles ne sont plus actives), on note $ \\bigwedge_{i=1}^{p_{mangées}} \\neg P(i,t+l)$\n",
    "\n",
    "Alors la condition suivante doit être respectée :\n",
    "\n",
    "$$\n",
    "\\forall l < L_0 + p_{mangées}, \\neg M(x,y,t) \\lor \\neg M(x,y,t+l)\n",
    "$$\n",
    "\n",
    "Ce qui peut être réécrit sous forme équivalente :\n",
    "\n",
    "$$\n",
    "\\forall (x,y,t), \\forall l < L_0 + p_{mangées}, \\left( \\bigvee_{i=1}^{p_{mangées}} P(i,t+l) \\right) \\lor \\neg M(x,y,t) \\lor \\neg M(x,y,t+l)\n",
    "$$\n",
    "\n",
    "Cette contrainte doit être appliquée pour tout $p_{mangées}$ et pour chaque combinaison $(p_i)_{0<i\\leq p_{mangées}}$.\n",
    "\n"
   ]
  },
  {
   "cell_type": "code",
   "execution_count": 175,
   "metadata": {},
   "outputs": [],
   "source": [
    "def mordre_queue_v3(N: int, T: int, L0: int, nb_pommes:int):\n",
    "    clauses_position = []\n",
    "    for x, y, t, in product(range(N), range(N), range(T - 1)):\n",
    "        for p_mangee in range(t+1):\n",
    "            for selected_pommes in combinations(range(nb_pommes), p_mangee):\n",
    "                for l in range(1, min(T - t, L0+p_mangee)):\n",
    "                    litteraux=[-variable((x, y, t)), -variable((x, y, t + l))]\n",
    "                    litteraux += [variable(typ='p', id=(pomme_idx, t+l)) for pomme_idx in selected_pommes]\n",
    "                    clauses_position.append(format_clause(litteraux))\n",
    "    return clauses_position"
   ]
  },
  {
   "cell_type": "markdown",
   "metadata": {},
   "source": [
    "### Contrainte 11.b : Mangez des pommes\n",
    "Toutes les pommes doivent être mangées à la fin du jeu donc à t=T-1, elles ne sont plus actives.\n",
    "$$\\forall i<n_{pommes}, \\neg P(i,T-1)$$"
   ]
  },
  {
   "cell_type": "code",
   "execution_count": 176,
   "metadata": {},
   "outputs": [],
   "source": [
    "def mangez_des_pommes_v2(T: int, nb_pommes:int):\n",
    "    clauses_position = []\n",
    "    for i in range(nb_pommes):\n",
    "        litteraux=[-variable(typ='p', id=(i,T-1))]\n",
    "        clauses_position.append(format_clause(litteraux))\n",
    "    return clauses_position"
   ]
  },
  {
   "cell_type": "markdown",
   "metadata": {},
   "source": [
    "## Résultats approche 2"
   ]
  },
  {
   "cell_type": "code",
   "execution_count": 177,
   "metadata": {},
   "outputs": [],
   "source": [
    "clauses = []\n",
    "clauses += unicité_position(N,T)\n",
    "clauses += existence_position(N,T)\n",
    "clauses += next_move(N,T)\n",
    "clauses += init_pommes(nb_pommes)\n",
    "clauses += init_positions(pommes)\n",
    "clauses += disparaitre_pommes(pommes, T)\n",
    "clauses += preserver_pommes(pommes, T)\n",
    "clauses += ne_pas_creer_pommes(nb_pommes, T)"
   ]
  },
  {
   "cell_type": "code",
   "execution_count": 178,
   "metadata": {},
   "outputs": [],
   "source": [
    "clauses += mangez_des_pommes_v2(T,nb_pommes)\n",
    "clauses += mordre_queue_v3(N,T,L0,nb_pommes)"
   ]
  },
  {
   "cell_type": "code",
   "execution_count": 179,
   "metadata": {},
   "outputs": [],
   "source": [
    "solution = create_sat(clauses)\n",
    "assert len(solution) > 0\n",
    "snake_path = create_snake_path(solution, T, N, variable, pommes=pommes)\n",
    "visualize_snake(N, snake_path, animation_name=\"solution_animation_MVP2B.gif\", apple_positions=pommes)\n",
    "plt.close()"
   ]
  },
  {
   "cell_type": "markdown",
   "metadata": {},
   "source": [
    "# MVP 3 : Dégustation des pommes dans l'ordre\n",
    "Cette fois ci on considère que les pommes apparaissent dans un ordre prédéfini, connu à l'avance. Le snake devra manger chaque pomme pour révéler la suivante et les avoir toutes dégustées. Nous retiendrons dans la suite l'approche par compteur précédemment déployée. Seulement, il convient de notifier que dans le cadre de ce problème où les pommes sont ordonnées, le compteur vérifie:\n",
    "\n",
    "$$\\forall c, \\forall t, C(c,t) = \\neg P(c,t)$$\n",
    "\n",
    "Par conséquent, dans un souci de simplification des contraintes, Nous supprimerons les variables associées au compteur dans cette partie"
   ]
  },
  {
   "cell_type": "code",
   "execution_count": 216,
   "metadata": {},
   "outputs": [],
   "source": [
    "clauses = []\n",
    "N=10\n",
    "T=70\n",
    "L=3\n",
    "nb_pommes = 9\n",
    "\n",
    "\n",
    "pommes = random.sample(list(product(range(N), range(N))), nb_pommes)        #Pommes placées aléatoirement sur la grille\n",
    "variable=create_variable_index(N,T, nb_pommes)"
   ]
  },
  {
   "cell_type": "markdown",
   "metadata": {},
   "source": [
    "## Contrainte 12 : Initialiser la position hors de la première pomme\n",
    "\n",
    "Au début du jeu, le serpent n'est pas sur la pomme visible\n",
    "$$\\neg M(x_0,y_0,0)$$\n",
    "\n",
    "Cela se traduit par $1$ contrainte supplémentaire."
   ]
  },
  {
   "cell_type": "code",
   "execution_count": 217,
   "metadata": {},
   "outputs": [],
   "source": [
    "def init_positions_v2(pommes):\n",
    "    x0,y0 = pommes[0]\n",
    "    litteral = [-variable((x0, y0, 0), 's')]\n",
    "    clauses_position = [format_clause(litteral)]\n",
    "    return clauses_position"
   ]
  },
  {
   "cell_type": "markdown",
   "metadata": {},
   "source": [
    "## Contrainte 13 : Faire disparaitre les pommes\n",
    "\n",
    "A chaque fois que le snake passe au-dessus de la pomme \"active\", elle disparait.\n",
    "$$\\forall t, \\forall p \\in pommes, M(x_p,y_p,t) \\land P(p,t) \\land \\neg P(p-1,t) \\Rightarrow \\neg P(p,t+1)$$\n",
    "$$\\forall t, M(x_0,y_0,t) \\land P(0,t) \\Rightarrow \\neg P(0,t+1)$$\n",
    "\n",
    "Cela se traduit par $O(P \\times T)$ contraintes supplémentaires. Formellement:\n",
    "$$\\forall t, \\forall p \\in pommes, \\neg M(x_p,y_p,t) \\lor \\neg P(p,t) \\lor P(p-1,t) \\lor \\neg P(p,t+1)$$\n",
    "$$\\forall t, \\neg M(x_0,y_0,t) \\lor \\neg P(0,t) \\lor \\neg P(0,t+1)$$"
   ]
  },
  {
   "cell_type": "code",
   "execution_count": 218,
   "metadata": {},
   "outputs": [],
   "source": [
    "def disparaitre_pommes_v2(pommes, T):\n",
    "    clauses_position = []\n",
    "\n",
    "    x0, y0 = pommes[0]\n",
    "    for t in range(T):\n",
    "        litteraux=[-variable((x0, y0, t), 's'), -variable((0, t), 'p'), -variable((0, t+1), 'p')]\n",
    "        clauses_position.append(format_clause(litteraux))\n",
    "\n",
    "        for p, (xp,yp) in enumerate(pommes):\n",
    "            if p == 0:\n",
    "                continue\n",
    "            litteraux=[-variable((xp, yp, t), 's'), -variable((p, t), 'p'), -variable((p-1, t), 'p'), -variable((p, t+1), 'p')]\n",
    "            clauses_position.append(format_clause(litteraux))\n",
    "    return clauses_position"
   ]
  },
  {
   "cell_type": "markdown",
   "metadata": {},
   "source": [
    "## Contrainte 14 : Pas d'anihilation spontanée de pommes\n",
    "\n",
    "Les pommes restent \"actives\" si le snake ne passe pas dessus ou qu'elles ne sont pas mangeables\n",
    "$$\\forall t, \\forall p \\in pommes, P(p,t) \\Rightarrow P(p,t+1) \\lor (M(x_p,y_p,t) \\land \\neg P(p-1,t))$$\n",
    "$$\\forall t, P(0,t) \\Rightarrow P(0,t+1) \\lor M(x_0,y_0,t)$$\n",
    "\n",
    "Cela se traduit par $O(P \\times T)$ contraintes supplémentaires. Formellement:\n",
    "$$\\forall t, \\forall p \\in pommes, \\neg P(p,t) \\lor P(p,t+1) \\lor M(x_p,y_p,t)$$\n",
    "$$\\forall t, \\forall p \\in pommes, \\neg P(p,t) \\lor P(p,t+1) \\lor \\neg P(p-1,t)$$"
   ]
  },
  {
   "cell_type": "code",
   "execution_count": 219,
   "metadata": {},
   "outputs": [],
   "source": [
    "def preserver_pommes_v2(pommes, T):\n",
    "    clauses_position = []\n",
    "    for t in range(T):\n",
    "        x0, y0 = pommes[0]\n",
    "        litteraux=[-variable((0, t), 'p'), variable((0, t+1), 'p'), variable((x0, y0, t), 's')]\n",
    "        clauses_position.append(format_clause(litteraux))\n",
    "\n",
    "        for p, (xp,yp) in enumerate(pommes):\n",
    "            if p == 0:\n",
    "                continue\n",
    "            litteraux=[-variable((p, t), 'p'), variable((p, t+1), 'p'), variable((xp, yp, t), 's')]\n",
    "            clauses_position.append(format_clause(litteraux))\n",
    "\n",
    "            litteraux=[-variable((p, t), 'p'), variable((p, t+1), 'p'), -variable((p-1, t), 'p')]\n",
    "            clauses_position.append(format_clause(litteraux))\n",
    "    return clauses_position"
   ]
  },
  {
   "cell_type": "markdown",
   "metadata": {},
   "source": [
    "## Contrainte 15 : Manger toutes les pommes\n",
    "\n",
    "Toutes les pommes doivent être mangées à la fin du temps imparti. Cela se traduit par la contrainte\n",
    "$$\\neg P(P-1,T)$$"
   ]
  },
  {
   "cell_type": "code",
   "execution_count": 220,
   "metadata": {},
   "outputs": [],
   "source": [
    "def manger_des_pommes_v2(nb_pommes, T):\n",
    "    litteral = [-variable((nb_pommes - 1, T), 'p')]\n",
    "    clauses_position = [format_clause(litteral)]\n",
    "    return clauses_position"
   ]
  },
  {
   "cell_type": "markdown",
   "metadata": {},
   "source": [
    "## Contrainte 16 : Ne pas se mordre la queue V2\n",
    "\n",
    "Le serpent a désormais une longueur variable, incrémentée de 1 à chaque fois que le serpent mange une pomme. La position de la tête du snake \\((x,y)\\) sur la grille ne peut donc pas être la même à un instant \\(t\\) et à un instant \\(t'\\) avec \\(t' < t + L + nb_pommes_mangees\\). Cela se traduit par l'introduction de $O(N^2 \\times (L+P) \\times T)$ clauses supplémentaires.\n",
    "\n",
    "$$\\forall t, \\forall l < L, \\forall (x,y), \\neg M(x,y,t) \\lor \\neg M(x,y,t+l)$$\n",
    "$$\\forall t, \\forall 0 \\leq p < P, \\forall (x,y), \\neg P(p,t) \\Rightarrow (\\neg M(x,y,t) \\lor \\neg M(x,y,t+L+p))$$\n",
    "\n",
    "Soit formellement:\n",
    "$$\\forall t, \\forall l < L, \\forall (x,y), \\neg M(x,y,t) \\lor \\neg M(x,y,t+l)$$\n",
    "$$\\forall t, \\forall 0 \\leq p < P, \\forall (x,y), P(p,t) \\lor \\neg M(x,y,t) \\lor \\neg M(x,y,t+L+p)$$"
   ]
  },
  {
   "cell_type": "code",
   "execution_count": 221,
   "metadata": {},
   "outputs": [],
   "source": [
    "def mordre_queue_v4(N: int, T: int, L: int, nb_pommes: int):\n",
    "    clauses_position = []\n",
    "    for x, y, t in product(range(N), range(N), range(T - 1)):\n",
    "        for l in range(1, min(T - t, L)):\n",
    "            litteraux=[-variable((x, y, t)), -variable((x, y, t + l))]\n",
    "            clauses_position.append(format_clause(litteraux))\n",
    "\n",
    "        for p in range(min(T -L - t, nb_pommes)):\n",
    "            litteraux=[variable((p,t), 'p') ,-variable((x, y, t)), -variable((x, y, t + L + p))]\n",
    "            clauses_position.append(format_clause(litteraux))\n",
    "    return clauses_position"
   ]
  },
  {
   "cell_type": "markdown",
   "metadata": {},
   "source": [
    "## Resultats MVP3"
   ]
  },
  {
   "cell_type": "code",
   "execution_count": 222,
   "metadata": {},
   "outputs": [],
   "source": [
    "clauses = []\n",
    "clauses += unicité_position(N,T)\n",
    "clauses += existence_position(N,T)\n",
    "clauses += next_move(N,T)\n",
    "clauses += init_pommes(nb_pommes)\n",
    "clauses += init_positions_v2(pommes)\n",
    "clauses += disparaitre_pommes_v2(pommes, T)\n",
    "clauses += preserver_pommes_v2(pommes, T)\n",
    "clauses += ne_pas_creer_pommes(nb_pommes, T)"
   ]
  },
  {
   "cell_type": "code",
   "execution_count": 223,
   "metadata": {},
   "outputs": [],
   "source": [
    "clauses += manger_des_pommes_v2(nb_pommes, T)\n",
    "clauses += mordre_queue_v4(N,T,L0, nb_pommes)"
   ]
  },
  {
   "cell_type": "code",
   "execution_count": 224,
   "metadata": {},
   "outputs": [],
   "source": [
    "solution = create_sat(clauses)\n",
    "assert len(solution) > 0\n",
    "snake_path = create_snake_path(solution, T, N, variable, pommes=pommes)\n",
    "visualize_snake(N, snake_path, animation_name=\"solution_animation_MVP3.gif\", apple_positions=pommes, pommes_successives=True, interval=400)\n",
    "plt.close()"
   ]
  }
 ],
 "metadata": {
  "kernelspec": {
   "display_name": "Python 3",
   "language": "python",
   "name": "python3"
  },
  "language_info": {
   "codemirror_mode": {
    "name": "ipython",
    "version": 3
   },
   "file_extension": ".py",
   "mimetype": "text/x-python",
   "name": "python",
   "nbconvert_exporter": "python",
   "pygments_lexer": "ipython3",
   "version": "3.9.13"
  }
 },
 "nbformat": 4,
 "nbformat_minor": 2
}
