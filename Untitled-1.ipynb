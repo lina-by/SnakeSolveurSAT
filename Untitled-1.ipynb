{
 "cells": [
  {
   "cell_type": "markdown",
   "metadata": {},
   "source": [
    "# Solveur SAT pour le jeu Snake\n",
    "\n",
    "Nous modélisons la grille de taille $N^2$ et les déplacements du snake à l'aide d'un tenseur de dimensions $N^2 \\times T$, où $T$ représente l'horizon temporel sur lequel le snake doit manger les $p$ pommes.\n",
    "\n",
    "Les coefficients du tenseur sont définis comme suit :\n",
    "$$\n",
    "a_{x,y,t} = \\begin{cases} \n",
    "1, & \\text{si la tête du snake est en position } (x,y) \\text{ à l'instant } t \\\\\n",
    "0, & \\text{sinon}\n",
    "\\end{cases}\n",
    "$$\n",
    "\n",
    "L'instance du problème SAT est représentée sous forme d'une liste de tenseurs de dimensions $N^2 \\times T$, avec les conventions suivantes :\n",
    "- $1$ si la variable apparaît dans la clause,\n",
    "- $-1$ si c'est son opposé,\n",
    "- $0$ si la variable n'est pas présente dans la clause.\n",
    "\n",
    "### Fonctionnalités\n",
    "- **`gophersat.py`** : Ce module permet de générer un fichier `.cnf` interprétable par Gophersat, d'exécuter le solveur et de récupérer les réponses.\n",
    "- **`plots.py`** : Ce module permet de visualiser et d'illustrer les résultats obtenus.\n",
    "\n",
    "Ce notebook est dédié à la formulation des clauses SAT ainsi qu'à l'analyse et au commentaire des résultats obtenus.\n",
    "\n"
   ]
  },
  {
   "cell_type": "code",
   "execution_count": 44,
   "metadata": {},
   "outputs": [],
   "source": [
    "# IMPORTS\n",
    "from itertools import combinations, product\n",
    "from gophersat import create_sat"
   ]
  },
  {
   "cell_type": "markdown",
   "metadata": {},
   "source": [
    "# MVP1 : Contraintes de déplacement\n",
    "La longueur du serpent est fixe et vaut L. Il n'y a pas de pommes"
   ]
  },
  {
   "cell_type": "code",
   "execution_count": 45,
   "metadata": {},
   "outputs": [],
   "source": [
    "clauses = []\n",
    "N=5\n",
    "T=10\n",
    "L0=3\n",
    "SNAKE_SIZE=3\n",
    "id_point = {(x,y,t): N**2*t + N*y + x + 1 for (x,y) in product(range(N),range(N)) for t in range(T)}"
   ]
  },
  {
   "cell_type": "markdown",
   "metadata": {},
   "source": [
    "## Contrainte 1 : Unicité de la position\n",
    "\n",
    "La tête du snake ne peut être qu'à une position $(x,y)$ à un instant $t$.\n",
    "\n",
    "$$\\forall t, \\exists! (x,y) \\text{ tel que } M(x,y,t) = 1$$\n",
    "\n",
    "Cette contrainte se traduit par un nombre de clauses de l'ordre de \\(O(N^4 \\times T)\\).\n",
    "\n",
    "Formellement, $\\forall t < T, \\forall (x,y) \\neq (x',y'), \\neg M(x,y,t) \\lor \\neg M(x',y',t)$\n"
   ]
  },
  {
   "cell_type": "code",
   "execution_count": 46,
   "metadata": {},
   "outputs": [],
   "source": [
    "def unicité_position(N,T, id_point):\n",
    "    clauses_position = []\n",
    "    for t in range(T):\n",
    "        for ((x1,y1),(x2,y2)) in combinations(product(range(N), range(N)),2):\n",
    "            clauses_position.append(f\"-{id_point[(x1,y1,t)]} -{id_point[(x2,y2,t)]} 0\\n\")\n",
    "    return clauses_position\n",
    "clauses += unicité_position(N,T, id_point)"
   ]
  },
  {
   "cell_type": "markdown",
   "metadata": {},
   "source": [
    "## Contrainte 2 : Existence de la position\n",
    "\n",
    "À chaque instant \\(t\\), le snake doit être quelque part sur la grille.\n",
    "\n",
    "$$\\forall t, \\exists (x,y) \\text{ tel que } M(x,y,t) = 1$$\n",
    "\n",
    "Cette contrainte garantit que la tête du snake occupe au moins une case à chaque instant \\(t\\).\n",
    "\n",
    "Cela introduit \\(T\\) clauses :\n",
    "\n",
    "$$\\forall t, \\bigvee_{x,y} M(x,y,t)$$\n",
    "\n"
   ]
  },
  {
   "cell_type": "code",
   "execution_count": 47,
   "metadata": {},
   "outputs": [],
   "source": [
    "def existence_position(N,T, id_point):\n",
    "    clauses_position = []\n",
    "    for t in range(T):\n",
    "        line = \"\"\n",
    "        for (x,y) in product(range(N), range(N)):\n",
    "            line += f\"{id_point[(x,y,t)]} \"\n",
    "        clauses_position.append(line+\"0\\n\")\n",
    "    return clauses_position\n",
    "clauses += existence_position(N,T, id_point)"
   ]
  },
  {
   "cell_type": "markdown",
   "metadata": {},
   "source": [
    "## Contrainte 3 : Déplacement valide\n",
    "\n",
    "La position en \\(t+1\\) doit être adjacente à la position en \\(t\\).\n",
    "\n",
    "$$\\forall t, \\forall (x,y), M(x,y,t) \\Rightarrow M(x,y-1,t+1) \\lor M(x,y+1,t+1) \\lor M(x-1,y,t+1) \\lor M(x+1,y,t+1)$$\n",
    "\n",
    "Cela se traduit par $O(N^2 \\times T)$ clauses supplémentaires.\n",
    "\n",
    "Formellement :\n",
    "\n",
    "$$\\forall x,y,t, \\neg M(x,y,t) \\lor M(x,y-1,t+1) \\lor M(x,y+1,t+1) \\lor M(x-1,y,t+1) \\lor M(x+1,y,t+1)$$\n",
    "\n"
   ]
  },
  {
   "cell_type": "code",
   "execution_count": 48,
   "metadata": {},
   "outputs": [],
   "source": [
    "def positions_adjacentes(x,y,N):\n",
    "    x_adjacentes = []\n",
    "    y_adjacentes = []\n",
    "    if x != N-1:\n",
    "        x_adjacentes.append(x+1)\n",
    "    if x != 0:\n",
    "        x_adjacentes.append(x-1)\n",
    "    if y != N-1:\n",
    "        y_adjacentes.append(y+1)\n",
    "    if y != 0:\n",
    "        y_adjacentes.append(y-1)\n",
    "    return [(x,y2) for y2 in y_adjacentes] + [(x2,y) for x2 in x_adjacentes]\n",
    "\n",
    "def next_move(N,T, id_point):\n",
    "    clauses_position = []\n",
    "    for (x,y,t) in product(range(N), range(N), range(T-1)):\n",
    "        line = f\"-{id_point[(x,y,t)]} \"\n",
    "        for (x2,y2) in positions_adjacentes(x,y,N):\n",
    "            line += f\"{id_point[(x2,y2,t+1)]} \"\n",
    "        clauses_position.append(line+ \"0\\n\")\n",
    "    return clauses_position\n",
    "clauses += next_move(N,T, id_point)"
   ]
  },
  {
   "cell_type": "markdown",
   "metadata": {},
   "source": [
    "## Contrainte 4 : Ne pas se mordre la queue\n",
    "\n",
    "Pour l'instant, le serpent a une longueur fixe \\(L\\). La position de la tête du snake \\((x,y)\\) sur la grille ne peut donc pas être la même à un instant \\(t\\) et à un instant \\(t'\\) avec \\(t' < t + L\\). Cela se traduit par l'introduction de $O(N^2 \\times L \\times T)$ clauses supplémentaires.\n",
    "\n",
    "$$\\forall t, \\forall l < L, \\forall (x,y), \\neg M(x,y,t) \\lor \\neg M(x,y,t+l)$$\n",
    "\n",
    "\n",
    "\n"
   ]
  },
  {
   "cell_type": "code",
   "execution_count": 49,
   "metadata": {},
   "outputs": [],
   "source": [
    "def mordre_queue_v1(N,T,L, id_point):\n",
    "    clauses_position = []\n",
    "    for (x,y,t) in product(range(N), range(N), range(T-1)):\n",
    "        for l in range(1,min((T-t), L)):\n",
    "            clauses_position.append(f\"-{id_point[(x,y,t)]} -{id_point[(x,y,t+l)]} 0\\n\")\n",
    "    return clauses_position\n",
    "\n",
    "clauses += mordre_queue_v1(N,T,L0, id_point)"
   ]
  },
  {
   "cell_type": "markdown",
   "metadata": {},
   "source": [
    "## Résultats"
   ]
  },
  {
   "cell_type": "code",
   "execution_count": null,
   "metadata": {},
   "outputs": [],
   "source": [
    "N_variables = len(id_point)\n",
    "solution = create_sat(N_variables, clauses)\n",
    "\n",
    "for t in range(T):\n",
    "    for (x,y) in product(range(N), range(N)):\n",
    "        if id_point[(x,y,t)] in solution:\n",
    "            print((x,y,t))"
   ]
  },
  {
   "cell_type": "markdown",
   "metadata": {},
   "source": [
    "# MVP 2 : Pommes et croissance du snake\n",
    "Cette fois ci on place p pommes sur la grille. Les positions sont dans la liste pommes. Le snake doit avoir mangée toutes ses pommes avant la fin du jeu, c'est à dire avant t=T. De plus le snake grandit de une unité à chaque pomme mangée. On introduit le vecteur L qui comptabilise le nombre de pommes mangée par le snake.\n"
   ]
  },
  {
   "cell_type": "code",
   "execution_count": null,
   "metadata": {},
   "outputs": [],
   "source": [
    "clauses = []\n",
    "N=5\n",
    "T=10\n",
    "L=3\n",
    "pommes=[]\n",
    "SNAKE_SIZE=3"
   ]
  }
 ],
 "metadata": {
  "kernelspec": {
   "display_name": "Python 3",
   "language": "python",
   "name": "python3"
  },
  "language_info": {
   "codemirror_mode": {
    "name": "ipython",
    "version": 3
   },
   "file_extension": ".py",
   "mimetype": "text/x-python",
   "name": "python",
   "nbconvert_exporter": "python",
   "pygments_lexer": "ipython3",
   "version": "3.9.13"
  }
 },
 "nbformat": 4,
 "nbformat_minor": 2
}
